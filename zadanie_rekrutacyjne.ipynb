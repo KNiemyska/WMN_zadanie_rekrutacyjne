{
 "cells": [
  {
   "cell_type": "markdown",
   "metadata": {},
   "source": [
    "**Seria warsztatów z analizy danych w Pythonie**\n",
    "\n",
    "_Zadanie rekrutacyjne_\n",
    "\n",
    "Napisz funkcję <code><font color=\"blue\">are_anagrams</font>(s1, s2, s3)</code>, która zwróci:\n",
    "\n",
    "* <code>True</code>, jeżeli łańcuchy znaków <code>s1, s2, s3</code> są anagramami,\n",
    "\n",
    "* <code>False</code>, jeżeli łańcuchy znaków <code>s1, s2, s3</code> nie są anagramami.\n",
    "\n",
    "Załóż, że maksymalna długość każdego z łańcuchów znaków jest równa **5**.\n",
    "\n",
    "Uzasadnij zaproponowane rozwiązanie, umieszczając komentarze w treści kodu."
   ]
  },
  {
   "cell_type": "code",
   "execution_count": 10,
   "metadata": {},
   "outputs": [],
   "source": [
    "def are_anagrams(s1, s2, s3):\n",
    "    #Trzy łańcuchy znaków są anagramami dla siebie jeżeli mają tą samą długość i składają się z tych samych znaków\n",
    "    #przed posortowaniem, w celu nie tworzenia nowych wskaźników do pamięci i ewentualnym wykonaniem operacji sprawdzamy długość\n",
    "    #porównanie list czy są takie same\n",
    "    if len(s1)==len(s2)==len(s3):\n",
    "        s1 = sorted(str(s1.lower()))\n",
    "        s2 = sorted(str(s2.lower()))\n",
    "        s3 = sorted(str(s3.lower()))\n",
    "        if s1 == s2 == s3:\n",
    "            return True\n",
    "    return False"
   ]
  }
 ],
 "metadata": {
  "celltoolbar": "Edit Metadata",
  "kernelspec": {
   "display_name": "Python 3",
   "language": "python",
   "name": "python3"
  },
  "language_info": {
   "codemirror_mode": {
    "name": "ipython",
    "version": 3
   },
   "file_extension": ".py",
   "mimetype": "text/x-python",
   "name": "python",
   "nbconvert_exporter": "python",
   "pygments_lexer": "ipython3",
   "version": "3.8.5"
  }
 },
 "nbformat": 4,
 "nbformat_minor": 4
}
